{
  "nbformat": 4,
  "nbformat_minor": 0,
  "metadata": {
    "colab": {
      "provenance": []
    },
    "kernelspec": {
      "name": "python3",
      "display_name": "Python 3"
    },
    "language_info": {
      "name": "python"
    }
  },
  "cells": [
    {
      "cell_type": "code",
      "execution_count": 11,
      "metadata": {
        "colab": {
          "base_uri": "https://localhost:8080/"
        },
        "id": "pGmGwlKq8ohc",
        "outputId": "8b9626a2-7027-4302-8830-22625f119100"
      },
      "outputs": [
        {
          "output_type": "stream",
          "name": "stdout",
          "text": [
            "Requirement already satisfied: matching in /usr/local/lib/python3.10/dist-packages (1.4.3)\n",
            "Requirement already satisfied: numpy>=1.19.2 in /usr/local/lib/python3.10/dist-packages (from matching) (1.25.2)\n"
          ]
        }
      ],
      "source": [
        "!pip install matching\n",
        "\n",
        "from matching.games import StableMarriage\n",
        "\n",
        "from sklearn.metrics import jaccard_score\n",
        "\n",
        "def getKeyList(dict):\n",
        "    list = []\n",
        "    for key in dict.keys():\n",
        "        list.append(key)\n",
        "\n",
        "    return list"
      ]
    },
    {
      "cell_type": "markdown",
      "source": [
        "Data for the existing families that we'll be matching new members to"
      ],
      "metadata": {
        "id": "rSXFVGey9Ylc"
      }
    },
    {
      "cell_type": "code",
      "source": [
        "djikstra_data = [1,1,1,1,1,1,0,1,1,1,0,1,0,0,0,1,1,0,1,0,0,1,0,0,0,1,0,0,0,0,0,0,0,0,1,0,0,0,1,1,0,1]\n",
        "hopper_data =   [1,0,0,1,1,0,1,1,0,0,0,0,0,1,0,1,1,1,0,0,1,0,0,1,1,1,0,0,1,0,0,1,1,0,1,0,0,0,1,0,1,1]\n",
        "prim_data =     [1,1,1,1,1,0,0,1,0,1,1,0,0,0,0,1,1,1,0,0,0,0,0,0,0,1,1,0,0,0,0,0,1,0,1,0,0,0,1,0,0,1]\n",
        "boole_data =    [1,1,1,1,1,0,0,1,1,1,1,1,0,0,0,1,1,1,1,1,0,0,1,1,1,1,1,0,1,0,1,0,1,0,1,0,0,0,1,0,0,0]\n",
        "pascal_data =   [1,1,0,1,1,1,1,1,0,0,0,0,0,1,0,1,1,1,1,1,0,0,0,0,0,0,1,0,1,0,0,0,1,0,1,0,0,0,1,0,0,0]\n",
        "euclid_data =   [1,1,1,1,1,0,0,1,1,0,1,0,1,1,0,0,1,0,0,0,0,0,1,1,1,1,1,0,0,0,0,1,1,0,0,0,0,0,1,0,0,0]\n",
        "\n",
        "new_mem_1_data = [1,0,1,1,0,1,1,1,0,0,0,0,0,1,0,1,0,1,0,0,0,0,0,1,0,1,0,0,0,0,0,0,0,0,1,0,0,0,1,0,0,1]\n",
        "new_mem_2_data = [1,1,1,1,1,0,1,1,1,1,0,0,0,0,1,1,0,0,1,1,0,1,0,1,0,1,1,0,1,1,0,0,0,0,1,0,0,0,0,0,0,1]\n",
        "new_mem_3_data = [1,1,0,1,1,0,1,1,1,1,0,1,1,0,0,0,1,1,0,0,1,0,1,1,1,1,0,0,0,0,1,0,0,0,1,0,0,0,1,0,0,0]\n",
        "new_mem_4_data = [1,1,1,1,1,0,0,1,0,1,1,0,0,0,0,1,1,0,0,0,0,1,0,1,0,1,1,1,0,0,0,0,0,1,1,0,0,0,1,1,0,1]\n",
        "new_mem_5_data = [1,1,1,1,1,1,0,1,1,1,1,0,1,0,0,1,1,0,1,1,0,1,1,1,1,1,1,0,1,0,1,1,1,0,0,0,0,0,0,0,0,1]\n",
        "new_mem_6_data = [1,1,1,1,1,1,0,1,0,1,1,0,0,1,1,1,1,1,0,1,0,1,0,0,1,1,1,0,1,1,0,1,1,1,1,0,0,0,1,1,0,1]\n",
        "\n",
        "families_data = [djikstra_data, hopper_data, prim_data, boole_data, pascal_data, euclid_data]\n",
        "family_names = [\"djikstra\", \"hopper\", \"prim\", \"boole\", \"pascal\", \"euclid\"]\n",
        "\n",
        "mems_data = [new_mem_1_data, new_mem_2_data, new_mem_3_data, new_mem_4_data, new_mem_5_data, new_mem_6_data]\n",
        "mem_names = [\"New Member 1\", \"New Member 2\", \"New Member 3\", \"New Member 4\", \"New Member 5\", \"New Member 6\"]"
      ],
      "metadata": {
        "id": "SJ160XjA9c32"
      },
      "execution_count": 12,
      "outputs": []
    },
    {
      "cell_type": "markdown",
      "source": [
        "Get the distances between the responses from the existing families and our new members"
      ],
      "metadata": {
        "id": "JhDxGvC6995g"
      }
    },
    {
      "cell_type": "code",
      "source": [
        "fam_dists = {}\n",
        "\n",
        "for i in range(len(families_data)):\n",
        "    fam_dist = {}\n",
        "    for j in range(len(mems_data)):\n",
        "        fam_dist[mem_names[j]] = jaccard_score(families_data[i], mems_data[j])\n",
        "    fam_dists[family_names[i]] = {k: v for k, v in sorted(fam_dist.items(), key=lambda item: item[1], reverse=True)}\n",
        "\n",
        "print(fam_dists)\n",
        "\n",
        "mem_dists = {}\n",
        "\n",
        "for i in range(len(mems_data)):\n",
        "    mem_dist = {}\n",
        "    for j in range(len(families_data)):\n",
        "        mem_dist[family_names[j]] = jaccard_score(mems_data[i], families_data[j])\n",
        "    mem_dists[mem_names[i]] = {k: v for k, v in sorted(mem_dist.items(), key=lambda item: item[1], reverse=True)}\n",
        "\n",
        "print(mem_dists)"
      ],
      "metadata": {
        "colab": {
          "base_uri": "https://localhost:8080/"
        },
        "id": "kHqcFfXU-Oox",
        "outputId": "ede8c5ff-57d6-4781-fb2f-c31444c2175e"
      },
      "execution_count": 13,
      "outputs": [
        {
          "output_type": "stream",
          "name": "stdout",
          "text": [
            "{'djikstra': {'New Member 4': 0.625, 'New Member 2': 0.5384615384615384, 'New Member 6': 0.5161290322580645, 'New Member 5': 0.5, 'New Member 3': 0.4444444444444444, 'New Member 1': 0.43478260869565216}, 'hopper': {'New Member 1': 0.5454545454545454, 'New Member 6': 0.5, 'New Member 3': 0.48148148148148145, 'New Member 5': 0.3939393939393939, 'New Member 4': 0.3793103448275862, 'New Member 2': 0.36666666666666664}, 'prim': {'New Member 4': 0.6818181818181818, 'New Member 6': 0.6071428571428571, 'New Member 5': 0.4827586206896552, 'New Member 1': 0.47619047619047616, 'New Member 2': 0.46153846153846156, 'New Member 3': 0.4230769230769231}, 'boole': {'New Member 5': 0.7, 'New Member 3': 0.6071428571428571, 'New Member 6': 0.5588235294117647, 'New Member 2': 0.5333333333333333, 'New Member 4': 0.5, 'New Member 1': 0.3448275862068966}, 'pascal': {'New Member 6': 0.5333333333333333, 'New Member 1': 0.45454545454545453, 'New Member 2': 0.4444444444444444, 'New Member 5': 0.41935483870967744, 'New Member 3': 0.35714285714285715, 'New Member 4': 0.35714285714285715}, 'euclid': {'New Member 5': 0.6071428571428571, 'New Member 3': 0.5, 'New Member 6': 0.46875, 'New Member 4': 0.4444444444444444, 'New Member 2': 0.3333333333333333, 'New Member 1': 0.32}}\n",
            "{'New Member 1': {'hopper': 0.5454545454545454, 'prim': 0.47619047619047616, 'pascal': 0.45454545454545453, 'djikstra': 0.43478260869565216, 'boole': 0.3448275862068966, 'euclid': 0.32}, 'New Member 2': {'djikstra': 0.5384615384615384, 'boole': 0.5333333333333333, 'prim': 0.46153846153846156, 'pascal': 0.4444444444444444, 'hopper': 0.36666666666666664, 'euclid': 0.3333333333333333}, 'New Member 3': {'boole': 0.6071428571428571, 'euclid': 0.5, 'hopper': 0.48148148148148145, 'djikstra': 0.4444444444444444, 'prim': 0.4230769230769231, 'pascal': 0.35714285714285715}, 'New Member 4': {'prim': 0.6818181818181818, 'djikstra': 0.625, 'boole': 0.5, 'euclid': 0.4444444444444444, 'hopper': 0.3793103448275862, 'pascal': 0.35714285714285715}, 'New Member 5': {'boole': 0.7, 'euclid': 0.6071428571428571, 'djikstra': 0.5, 'prim': 0.4827586206896552, 'pascal': 0.41935483870967744, 'hopper': 0.3939393939393939}, 'New Member 6': {'prim': 0.6071428571428571, 'boole': 0.5588235294117647, 'pascal': 0.5333333333333333, 'djikstra': 0.5161290322580645, 'hopper': 0.5, 'euclid': 0.46875}}\n"
          ]
        }
      ]
    },
    {
      "cell_type": "markdown",
      "source": [
        "Get preferences for the families and for the members"
      ],
      "metadata": {
        "id": "ojOrp0dQ-VAw"
      }
    },
    {
      "cell_type": "code",
      "source": [
        "fam_prefs = fam_dists\n",
        "\n",
        "for key in fam_prefs:\n",
        "    fam_prefs[key] = getKeyList(fam_prefs[key])\n",
        "\n",
        "print(fam_prefs)\n",
        "\n",
        "mem_prefs = mem_dists\n",
        "\n",
        "for key in mem_prefs:\n",
        "    mem_prefs[key] = getKeyList(mem_prefs[key])\n",
        "\n",
        "print(mem_prefs)"
      ],
      "metadata": {
        "colab": {
          "base_uri": "https://localhost:8080/"
        },
        "id": "idnSOQ6y-ZsP",
        "outputId": "cdb48dff-8231-4b5f-f273-bbfe2193f1d0"
      },
      "execution_count": 14,
      "outputs": [
        {
          "output_type": "stream",
          "name": "stdout",
          "text": [
            "{'djikstra': ['New Member 4', 'New Member 2', 'New Member 6', 'New Member 5', 'New Member 3', 'New Member 1'], 'hopper': ['New Member 1', 'New Member 6', 'New Member 3', 'New Member 5', 'New Member 4', 'New Member 2'], 'prim': ['New Member 4', 'New Member 6', 'New Member 5', 'New Member 1', 'New Member 2', 'New Member 3'], 'boole': ['New Member 5', 'New Member 3', 'New Member 6', 'New Member 2', 'New Member 4', 'New Member 1'], 'pascal': ['New Member 6', 'New Member 1', 'New Member 2', 'New Member 5', 'New Member 3', 'New Member 4'], 'euclid': ['New Member 5', 'New Member 3', 'New Member 6', 'New Member 4', 'New Member 2', 'New Member 1']}\n",
            "{'New Member 1': ['hopper', 'prim', 'pascal', 'djikstra', 'boole', 'euclid'], 'New Member 2': ['djikstra', 'boole', 'prim', 'pascal', 'hopper', 'euclid'], 'New Member 3': ['boole', 'euclid', 'hopper', 'djikstra', 'prim', 'pascal'], 'New Member 4': ['prim', 'djikstra', 'boole', 'euclid', 'hopper', 'pascal'], 'New Member 5': ['boole', 'euclid', 'djikstra', 'prim', 'pascal', 'hopper'], 'New Member 6': ['prim', 'boole', 'pascal', 'djikstra', 'hopper', 'euclid']}\n"
          ]
        }
      ]
    },
    {
      "cell_type": "markdown",
      "source": [
        "Now we're left with the Stable Marriage Problem which we can solve with Gale-Shapley"
      ],
      "metadata": {
        "id": "5TnpCyRL-dGy"
      }
    },
    {
      "cell_type": "code",
      "source": [
        "game = StableMarriage.create_from_dictionaries(mem_prefs, fam_prefs)\n",
        "print(\"matches\")\n",
        "print(game.solve())"
      ],
      "metadata": {
        "colab": {
          "base_uri": "https://localhost:8080/"
        },
        "id": "aJhoJ8MZ_2Ea",
        "outputId": "01283275-cf85-4cda-9cfd-f471b4eda7f2"
      },
      "execution_count": 15,
      "outputs": [
        {
          "output_type": "stream",
          "name": "stdout",
          "text": [
            "matches\n",
            "{New Member 1: hopper, New Member 2: djikstra, New Member 3: euclid, New Member 4: prim, New Member 5: boole, New Member 6: pascal}\n"
          ]
        }
      ]
    }
  ]
}